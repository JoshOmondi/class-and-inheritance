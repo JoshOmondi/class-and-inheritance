{
 "cells": [
  {
   "cell_type": "code",
   "execution_count": 1,
   "id": "6635d2ec",
   "metadata": {},
   "outputs": [
    {
     "name": "stdout",
     "output_type": "stream",
     "text": [
      "85\n",
      "92\n",
      "Invalid grade! Must be between 0 and 100.\n",
      "92\n"
     ]
    }
   ],
   "source": [
    "class StudentGrade:\n",
    "    def __init__(self, name, grade):\n",
    "        self.name = name\n",
    "        self.__grade = grade  # Private variable\n",
    "\n",
    "    def get_grade(self):\n",
    "        return self.__grade\n",
    "\n",
    "    def update_grade(self, new_grade):\n",
    "        if 0 <= new_grade <= 100:\n",
    "            self.__grade = new_grade\n",
    "        else:\n",
    "            print(\"Invalid grade! Must be between 0 and 100.\")\n",
    "\n",
    "\n",
    "student = StudentGrade(\"Jane\", 85)\n",
    "\n",
    "print(student.get_grade())  # 85\n",
    "\n",
    "student.update_grade(92)\n",
    "print(student.get_grade())  # 92\n",
    "\n",
    "student.update_grade(150)   # Invalid\n",
    "print(student.get_grade())  # Still 92\n"
   ]
  }
 ],
 "metadata": {
  "kernelspec": {
   "display_name": "base",
   "language": "python",
   "name": "python3"
  },
  "language_info": {
   "codemirror_mode": {
    "name": "ipython",
    "version": 3
   },
   "file_extension": ".py",
   "mimetype": "text/x-python",
   "name": "python",
   "nbconvert_exporter": "python",
   "pygments_lexer": "ipython3",
   "version": "3.12.7"
  }
 },
 "nbformat": 4,
 "nbformat_minor": 5
}
