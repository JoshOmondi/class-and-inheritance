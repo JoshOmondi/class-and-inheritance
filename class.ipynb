{
 "cells": [
  {
   "cell_type": "code",
   "execution_count": 1,
   "id": "0c9272a9",
   "metadata": {},
   "outputs": [
    {
     "name": "stdout",
     "output_type": "stream",
     "text": [
      "Hi, my name is Alice and I am 30 years old.\n",
      "Hi, my name is Bob and I am 25 years old.\n"
     ]
    }
   ],
   "source": [
    "class Person:\n",
    "    def __init__(self, name, age):\n",
    "        # assign to instance variables\n",
    "        self.name = name\n",
    "        self.age = age\n",
    "\n",
    "    def introduce(self):\n",
    "        # print introduction message\n",
    "        print(f\"Hi, my name is {self.name} and I am {self.age} years old.\")\n",
    "\n",
    "# Create objects\n",
    "person1 = Person(\"Alice\", 30)\n",
    "person2 = Person(\"Bob\", 25)\n",
    "\n",
    "# Call methods\n",
    "person1.introduce()\n",
    "person2.introduce()\n"
   ]
  },
  {
   "cell_type": "code",
   "execution_count": 2,
   "id": "f2202070",
   "metadata": {},
   "outputs": [
    {
     "data": {
      "text/plain": [
       "'Today i will plant both pawpaw and aloevera plants in my nursery bed'"
      ]
     },
     "execution_count": 2,
     "metadata": {},
     "output_type": "execute_result"
    }
   ],
   "source": [
    "class Plants:\n",
    "    def __init__(self,green,non_green):\n",
    "        self.green= green\n",
    "        self.non_green= non_green\n",
    "        \n",
    "    def planting(self):\n",
    "        return f\"Today i will plant both {self.green} and {self.non_green} plants in my nursery bed\"\n",
    "    \n",
    "    \n",
    "plant= Plants(\"pawpaw\",\"aloevera\")\n",
    "\n",
    "plant.planting()"
   ]
  }
 ],
 "metadata": {
  "kernelspec": {
   "display_name": "base",
   "language": "python",
   "name": "python3"
  },
  "language_info": {
   "codemirror_mode": {
    "name": "ipython",
    "version": 3
   },
   "file_extension": ".py",
   "mimetype": "text/x-python",
   "name": "python",
   "nbconvert_exporter": "python",
   "pygments_lexer": "ipython3",
   "version": "3.12.7"
  }
 },
 "nbformat": 4,
 "nbformat_minor": 5
}
