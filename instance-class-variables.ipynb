{
 "cells": [
  {
   "cell_type": "code",
   "execution_count": 2,
   "id": "b3aea6f2",
   "metadata": {},
   "outputs": [
    {
     "name": "stdout",
     "output_type": "stream",
     "text": [
      "Cow is a Herbivore and belongs to kingdom Animalia\n",
      "Lion is a Carnivore and belongs to kingdom Animalia\n",
      "Elephant is a Herbivore and belongs to kingdom Animalia\n",
      "All these animals belong to the kingdom: Animalia\n"
     ]
    }
   ],
   "source": [
    "class Animal:\n",
    "\n",
    "    kingdom = \"Animalia\"\n",
    "\n",
    "    def __init__(self,name,type):\n",
    "        self.name= name\n",
    "        self.type= type\n",
    "\n",
    "    def describe(self):\n",
    "        return f\"{self.name} is a {self.type} and belongs to kingdom {Animal.kingdom}\"\n",
    "    \n",
    "animal1 = Animal(\"Cow\", \"Herbivore\")\n",
    "animal2 = Animal(\"Lion\", \"Carnivore\")\n",
    "animal3 = Animal(\"Elephant\", \"Herbivore\")\n",
    "\n",
    "# Using the describe method\n",
    "print(animal1.describe())\n",
    "print(animal2.describe())\n",
    "print(animal3.describe())\n",
    "\n",
    "# Accessing class variable directly\n",
    "print(f\"All these animals belong to the kingdom: {Animal.kingdom}\")"
   ]
  }
 ],
 "metadata": {
  "kernelspec": {
   "display_name": "base",
   "language": "python",
   "name": "python3"
  },
  "language_info": {
   "codemirror_mode": {
    "name": "ipython",
    "version": 3
   },
   "file_extension": ".py",
   "mimetype": "text/x-python",
   "name": "python",
   "nbconvert_exporter": "python",
   "pygments_lexer": "ipython3",
   "version": "3.12.7"
  }
 },
 "nbformat": 4,
 "nbformat_minor": 5
}
